{
 "cells": [
  {
   "attachments": {},
   "cell_type": "markdown",
   "metadata": {},
   "source": [
    "# First try webscrapping"
   ]
  },
  {
   "cell_type": "code",
   "execution_count": 3,
   "metadata": {},
   "outputs": [],
   "source": [
    "import requests\n",
    "from bs4 import BeautifulSoup # pip install beautifulsoup4\n",
    "import pandas as pd\n",
    "import requests\n",
    "import re"
   ]
  },
  {
   "cell_type": "code",
   "execution_count": 4,
   "metadata": {},
   "outputs": [
    {
     "data": {
      "text/plain": [
       "<Response [200]>"
      ]
     },
     "execution_count": 4,
     "metadata": {},
     "output_type": "execute_result"
    }
   ],
   "source": [
    "html = requests.get(\"https://tienda.mercadona.es/user-area/orders\")\n",
    "html"
   ]
  },
  {
   "cell_type": "code",
   "execution_count": 11,
   "metadata": {},
   "outputs": [
    {
     "data": {
      "text/plain": [
       "'<!doctype html><html lang=\"es\"><head><meta charset=\"utf-8\"><meta http-equiv=\"X-UA-Compatible\" content=\"IE=edge\"/><link rel=\"manifest\" href=\"/manifest.json\"><link rel=\"shortcut icon\" href=\"/favicon.ico\"><meta name=\"viewport\" content=\"width=device-width,initial-scale=1,shrink-to-fit=no\"><meta name=\"theme-color\" content=\"#000000\"><meta name=\"google\" content=\"notranslate\"><meta name=\"twitter:card\" content=\"summary_large_image\"><meta name=\"twitter:site\" content=\"@Mercadona\"><meta name=\"twitter:creator\" content=\"@Mercadona\"><meta name=\"google-site-verification\" content=\"AiAA_avfXacCRnY2G3ZE91SUVhDaT-QiraT_Y0y8Bv4\"/><script async src=\"https://www.googletagmanager.com/gtag/js?id=UA-119340431-4\"></script><script>function gtag(){dataLayer.push(arguments)}window.dataLayer=window.dataLayer||[],gtag(\"js\",new Date)</script><meta property=\"og:image\" content=\"https://tienda.mercadona.es/web-display-img.png\" data-react-helmet=\"true\"><meta property=\"og:url\" content=\"https://tienda.mercadona.es\" data-react-helmet=\"true\"><meta property=\"og:title\" content=\"Mercadona compra online\" data-react-helmet=\"true\"><meta property=\"og:description\" content=\"Empieza tu compra online en Mercadona. Tu compra en casa con la misma calidad y frescura que en tu tienda de siempre.\" data-react-helmet=\"true\"><title>Mercadona compra online</title><meta name=\"description\" content=\"Empieza tu compra online en Mercadona. Tu compra en casa con la misma calidad y frescura que en tu tienda de siempre.\" data-react-helmet=\"true\"><link href=\"/v587/static/css/2.08d9cb77.chunk.css\" rel=\"stylesheet\"><link href=\"/v587/static/css/main.b48a9677.chunk.css\" rel=\"stylesheet\"></head><body><noscript>You need to enable JavaScript to run this app.</noscript><div id=\"root\"></div><div id=\"modal-info\"></div><script>!function(e){function r(r){for(var n,l,f=r[0],i=r[1],a=r[2],c=0,s=[];c<f.length;c++)l=f[c],Object.prototype.hasOwnProperty.call(o,l)&&o[l]&&s.push(o[l][0]),o[l]=0;for(n in i)Object.prototype.hasOwnProperty.call(i,n)&&(e[n]=i[n]);for(p&&p(r);s.length;)s.shift()();return u.push.apply(u,a||[]),t()}function t(){for(var e,r=0;r<u.length;r++){for(var t=u[r],n=!0,f=1;f<t.length;f++){var i=t[f];0!==o[i]&&(n=!1)}n&&(u.splice(r--,1),e=l(l.s=t[0]))}return e}var n={},o={1:0},u=[];function l(r){if(n[r])return n[r].exports;var t=n[r]={i:r,l:!1,exports:{}};return e[r].call(t.exports,t,t.exports,l),t.l=!0,t.exports}l.m=e,l.c=n,l.d=function(e,r,t){l.o(e,r)||Object.defineProperty(e,r,{enumerable:!0,get:t})},l.r=function(e){\"undefined\"!=typeof Symbol&&Symbol.toStringTag&&Object.defineProperty(e,Symbol.toStringTag,{value:\"Module\"}),Object.defineProperty(e,\"__esModule\",{value:!0})},l.t=function(e,r){if(1&r&&(e=l(e)),8&r)return e;if(4&r&&\"object\"==typeof e&&e&&e.__esModule)return e;var t=Object.create(null);if(l.r(t),Object.defineProperty(t,\"default\",{enumerable:!0,value:e}),2&r&&\"string\"!=typeof e)for(var n in e)l.d(t,n,function(r){return e[r]}.bind(null,n));return t},l.n=function(e){var r=e&&e.__esModule?function(){return e.default}:function(){return e};return l.d(r,\"a\",r),r},l.o=function(e,r){return Object.prototype.hasOwnProperty.call(e,r)},l.p=\"/\";var f=window.webpackJsonp=window.webpackJsonp||[],i=f.push.bind(f);f.push=r,f=f.slice();for(var a=0;a<f.length;a++)r(f[a]);var p=i;t()}([])</script><script src=\"/v587/static/js/2.39d6f8c4.chunk.js\"></script><script src=\"/v587/static/js/main.7cc01093.chunk.js\"></script></body></html>'"
      ]
     },
     "execution_count": 11,
     "metadata": {},
     "output_type": "execute_result"
    }
   ],
   "source": [
    "html.text"
   ]
  },
  {
   "cell_type": "code",
   "execution_count": 5,
   "metadata": {},
   "outputs": [
    {
     "data": {
      "text/plain": [
       "<!DOCTYPE html>\n",
       "<html lang=\"es\"><head><meta charset=\"utf-8\"/><meta content=\"IE=edge\" http-equiv=\"X-UA-Compatible\"><link href=\"/manifest.json\" rel=\"manifest\"/><link href=\"/favicon.ico\" rel=\"shortcut icon\"/><meta content=\"width=device-width,initial-scale=1,shrink-to-fit=no\" name=\"viewport\"/><meta content=\"#000000\" name=\"theme-color\"/><meta content=\"notranslate\" name=\"google\"/><meta content=\"summary_large_image\" name=\"twitter:card\"/><meta content=\"@Mercadona\" name=\"twitter:site\"/><meta content=\"@Mercadona\" name=\"twitter:creator\"/><meta content=\"AiAA_avfXacCRnY2G3ZE91SUVhDaT-QiraT_Y0y8Bv4\" name=\"google-site-verification\"><script async=\"\" src=\"https://www.googletagmanager.com/gtag/js?id=UA-119340431-4\"></script><script>function gtag(){dataLayer.push(arguments)}window.dataLayer=window.dataLayer||[],gtag(\"js\",new Date)</script><meta content=\"https://tienda.mercadona.es/web-display-img.png\" data-react-helmet=\"true\" property=\"og:image\"/><meta content=\"https://tienda.mercadona.es\" data-react-helmet=\"true\" property=\"og:url\"/><meta content=\"Mercadona compra online\" data-react-helmet=\"true\" property=\"og:title\"/><meta content=\"Empieza tu compra online en Mercadona. Tu compra en casa con la misma calidad y frescura que en tu tienda de siempre.\" data-react-helmet=\"true\" property=\"og:description\"/><title>Mercadona compra online</title><meta content=\"Empieza tu compra online en Mercadona. Tu compra en casa con la misma calidad y frescura que en tu tienda de siempre.\" data-react-helmet=\"true\" name=\"description\"/><link href=\"/v587/static/css/2.08d9cb77.chunk.css\" rel=\"stylesheet\"/><link href=\"/v587/static/css/main.b48a9677.chunk.css\" rel=\"stylesheet\"/></meta></meta></head><body><noscript>You need to enable JavaScript to run this app.</noscript><div id=\"root\"></div><div id=\"modal-info\"></div><script>!function(e){function r(r){for(var n,l,f=r[0],i=r[1],a=r[2],c=0,s=[];c<f.length;c++)l=f[c],Object.prototype.hasOwnProperty.call(o,l)&&o[l]&&s.push(o[l][0]),o[l]=0;for(n in i)Object.prototype.hasOwnProperty.call(i,n)&&(e[n]=i[n]);for(p&&p(r);s.length;)s.shift()();return u.push.apply(u,a||[]),t()}function t(){for(var e,r=0;r<u.length;r++){for(var t=u[r],n=!0,f=1;f<t.length;f++){var i=t[f];0!==o[i]&&(n=!1)}n&&(u.splice(r--,1),e=l(l.s=t[0]))}return e}var n={},o={1:0},u=[];function l(r){if(n[r])return n[r].exports;var t=n[r]={i:r,l:!1,exports:{}};return e[r].call(t.exports,t,t.exports,l),t.l=!0,t.exports}l.m=e,l.c=n,l.d=function(e,r,t){l.o(e,r)||Object.defineProperty(e,r,{enumerable:!0,get:t})},l.r=function(e){\"undefined\"!=typeof Symbol&&Symbol.toStringTag&&Object.defineProperty(e,Symbol.toStringTag,{value:\"Module\"}),Object.defineProperty(e,\"__esModule\",{value:!0})},l.t=function(e,r){if(1&r&&(e=l(e)),8&r)return e;if(4&r&&\"object\"==typeof e&&e&&e.__esModule)return e;var t=Object.create(null);if(l.r(t),Object.defineProperty(t,\"default\",{enumerable:!0,value:e}),2&r&&\"string\"!=typeof e)for(var n in e)l.d(t,n,function(r){return e[r]}.bind(null,n));return t},l.n=function(e){var r=e&&e.__esModule?function(){return e.default}:function(){return e};return l.d(r,\"a\",r),r},l.o=function(e,r){return Object.prototype.hasOwnProperty.call(e,r)},l.p=\"/\";var f=window.webpackJsonp=window.webpackJsonp||[],i=f.push.bind(f);f.push=r,f=f.slice();for(var a=0;a<f.length;a++)r(f[a]);var p=i;t()}([])</script><script src=\"/v587/static/js/2.39d6f8c4.chunk.js\"></script><script src=\"/v587/static/js/main.7cc01093.chunk.js\"></script></body></html>"
      ]
     },
     "execution_count": 5,
     "metadata": {},
     "output_type": "execute_result"
    }
   ],
   "source": [
    "soup = BeautifulSoup(html.content, \"html.parser\")\n",
    "soup"
   ]
  },
  {
   "cell_type": "code",
   "execution_count": 8,
   "metadata": {},
   "outputs": [],
   "source": [
    "pedidos = soup.find_all(\"span\", attrs = {\"class\":\"order-cell__id footnote1-r\"})"
   ]
  },
  {
   "cell_type": "code",
   "execution_count": 9,
   "metadata": {},
   "outputs": [
    {
     "data": {
      "text/plain": [
       "[]"
      ]
     },
     "execution_count": 9,
     "metadata": {},
     "output_type": "execute_result"
    }
   ],
   "source": [
    "pedidos"
   ]
  },
  {
   "attachments": {},
   "cell_type": "markdown",
   "metadata": {},
   "source": [
    "# Impass\n",
    "Might've not worked because I was accessing the url directly, withoug logging in...\n",
    "\n",
    "Let's try\n",
    "\n",
    "# Selenium"
   ]
  },
  {
   "cell_type": "code",
   "execution_count": 2,
   "metadata": {},
   "outputs": [
    {
     "data": {
      "text/plain": [
       "'/opt/miniconda3/envs/ironhack/lib/python3.9/site-packages/chromedriver_autoinstaller/110/chromedriver'"
      ]
     },
     "execution_count": 2,
     "metadata": {},
     "output_type": "execute_result"
    }
   ],
   "source": [
    "import chromedriver_autoinstaller\n",
    "chromedriver_autoinstaller.install()"
   ]
  },
  {
   "cell_type": "code",
   "execution_count": 3,
   "metadata": {},
   "outputs": [],
   "source": [
    "from selenium import webdriver\n",
    "from selenium.webdriver.common.keys import Keys\n",
    "from selenium.webdriver.common.by import By\n",
    "from selenium.webdriver.support.ui import WebDriverWait\n",
    "from selenium.webdriver.support import expected_conditions as EC\n",
    "from selenium.webdriver.support.ui import Select"
   ]
  },
  {
   "cell_type": "code",
   "execution_count": 4,
   "metadata": {},
   "outputs": [],
   "source": [
    "import random\n",
    "from time import sleep"
   ]
  },
  {
   "cell_type": "code",
   "execution_count": 5,
   "metadata": {},
   "outputs": [
    {
     "data": {
      "text/plain": [
       "True"
      ]
     },
     "execution_count": 5,
     "metadata": {},
     "output_type": "execute_result"
    }
   ],
   "source": [
    "from bs4 import BeautifulSoup\n",
    "import re as re\n",
    "import time\n",
    "import pandas as pd\n",
    "import os\n",
    "import numpy as np\n",
    "\n",
    "import pymysql\n",
    "import sqlalchemy as alch\n",
    "from getpass import getpass\n",
    "\n",
    "#import googletrans\n",
    "from nltk.sentiment.vader import SentimentIntensityAnalyzer\n",
    "#import spacy\n",
    "\n",
    "from dotenv import load_dotenv\n",
    "load_dotenv()"
   ]
  },
  {
   "cell_type": "code",
   "execution_count": 6,
   "metadata": {},
   "outputs": [],
   "source": [
    "mercadona_user = os.getenv(\"mercadona_user\")\n",
    "mercadona_password = os.getenv(\"mercadona_password\")"
   ]
  },
  {
   "cell_type": "code",
   "execution_count": 15,
   "metadata": {},
   "outputs": [
    {
     "ename": "NoSuchElementException",
     "evalue": "Message: no such element: Unable to locate element: {\"method\":\"xpath\",\"selector\":\"//div[@class=\"order-list\"]/div[2]//button[@class=\"ui-button ui-button--small ui-button--tertiary ui-button--positive ui-button--with-icon\"]\"}\n  (Session info: chrome=110.0.5481.177)\nStacktrace:\n0   chromedriver                        0x000000010aa922c8 chromedriver + 4928200\n1   chromedriver                        0x000000010aa0a273 chromedriver + 4371059\n2   chromedriver                        0x000000010a652777 chromedriver + 472951\n3   chromedriver                        0x000000010a696b2c chromedriver + 752428\n4   chromedriver                        0x000000010a696d81 chromedriver + 753025\n5   chromedriver                        0x000000010a6dd6c4 chromedriver + 1042116\n6   chromedriver                        0x000000010a6bff6d chromedriver + 921453\n7   chromedriver                        0x000000010a6dabbb chromedriver + 1031099\n8   chromedriver                        0x000000010a6bfcb3 chromedriver + 920755\n9   chromedriver                        0x000000010a6869eb chromedriver + 686571\n10  chromedriver                        0x000000010a687fe4 chromedriver + 692196\n11  chromedriver                        0x000000010aa5d90e chromedriver + 4712718\n12  chromedriver                        0x000000010aa62e42 chromedriver + 4734530\n13  chromedriver                        0x000000010aa6b68f chromedriver + 4769423\n14  chromedriver                        0x000000010aa63e90 chromedriver + 4738704\n15  chromedriver                        0x000000010aa34815 chromedriver + 4544533\n16  chromedriver                        0x000000010aa85f58 chromedriver + 4878168\n17  chromedriver                        0x000000010aa860d5 chromedriver + 4878549\n18  chromedriver                        0x000000010aa9a84e chromedriver + 4962382\n19  libsystem_pthread.dylib             0x00007ff81d4a24e1 _pthread_start + 125\n20  libsystem_pthread.dylib             0x00007ff81d49df6b thread_start + 15\n",
     "output_type": "error",
     "traceback": [
      "\u001b[0;31m---------------------------------------------------------------------------\u001b[0m",
      "\u001b[0;31mNoSuchElementException\u001b[0m                    Traceback (most recent call last)",
      "\u001b[1;32m/Users/kike/Documents/Personal/Educación/IronHack/Final Project/draft.ipynb Cell 14\u001b[0m in \u001b[0;36m<cell line: 67>\u001b[0;34m()\u001b[0m\n\u001b[1;32m     <a href='vscode-notebook-cell:/Users/kike/Documents/Personal/Educaci%C3%B3n/IronHack/Final%20Project/draft.ipynb#X16sZmlsZQ%3D%3D?line=64'>65</a>\u001b[0m sleep(\u001b[39m1\u001b[39m)\n\u001b[1;32m     <a href='vscode-notebook-cell:/Users/kike/Documents/Personal/Educaci%C3%B3n/IronHack/Final%20Project/draft.ipynb#X16sZmlsZQ%3D%3D?line=65'>66</a>\u001b[0m \u001b[39m# find the first order cell and click it\u001b[39;00m\n\u001b[0;32m---> <a href='vscode-notebook-cell:/Users/kike/Documents/Personal/Educaci%C3%B3n/IronHack/Final%20Project/draft.ipynb#X16sZmlsZQ%3D%3D?line=66'>67</a>\u001b[0m first_order \u001b[39m=\u001b[39m driver\u001b[39m.\u001b[39;49mfind_element(By\u001b[39m.\u001b[39;49mXPATH, \u001b[39m'\u001b[39;49m\u001b[39m//div[@class=\u001b[39;49m\u001b[39m\"\u001b[39;49m\u001b[39morder-list\u001b[39;49m\u001b[39m\"\u001b[39;49m\u001b[39m]/div[2]//button[@class=\u001b[39;49m\u001b[39m\"\u001b[39;49m\u001b[39mui-button ui-button--small ui-button--tertiary ui-button--positive ui-button--with-icon\u001b[39;49m\u001b[39m\"\u001b[39;49m\u001b[39m]\u001b[39;49m\u001b[39m'\u001b[39;49m)\n\u001b[1;32m     <a href='vscode-notebook-cell:/Users/kike/Documents/Personal/Educaci%C3%B3n/IronHack/Final%20Project/draft.ipynb#X16sZmlsZQ%3D%3D?line=67'>68</a>\u001b[0m first_order\u001b[39m.\u001b[39mclick()\n\u001b[1;32m     <a href='vscode-notebook-cell:/Users/kike/Documents/Personal/Educaci%C3%B3n/IronHack/Final%20Project/draft.ipynb#X16sZmlsZQ%3D%3D?line=69'>70</a>\u001b[0m \u001b[39m# wait for the order page to load\u001b[39;00m\n",
      "File \u001b[0;32m/opt/miniconda3/envs/ironhack/lib/python3.9/site-packages/selenium/webdriver/remote/webdriver.py:830\u001b[0m, in \u001b[0;36mWebDriver.find_element\u001b[0;34m(self, by, value)\u001b[0m\n\u001b[1;32m    827\u001b[0m     by \u001b[39m=\u001b[39m By\u001b[39m.\u001b[39mCSS_SELECTOR\n\u001b[1;32m    828\u001b[0m     value \u001b[39m=\u001b[39m \u001b[39mf\u001b[39m\u001b[39m'\u001b[39m\u001b[39m[name=\u001b[39m\u001b[39m\"\u001b[39m\u001b[39m{\u001b[39;00mvalue\u001b[39m}\u001b[39;00m\u001b[39m\"\u001b[39m\u001b[39m]\u001b[39m\u001b[39m'\u001b[39m\n\u001b[0;32m--> 830\u001b[0m \u001b[39mreturn\u001b[39;00m \u001b[39mself\u001b[39;49m\u001b[39m.\u001b[39;49mexecute(Command\u001b[39m.\u001b[39;49mFIND_ELEMENT, {\u001b[39m\"\u001b[39;49m\u001b[39musing\u001b[39;49m\u001b[39m\"\u001b[39;49m: by, \u001b[39m\"\u001b[39;49m\u001b[39mvalue\u001b[39;49m\u001b[39m\"\u001b[39;49m: value})[\u001b[39m\"\u001b[39m\u001b[39mvalue\u001b[39m\u001b[39m\"\u001b[39m]\n",
      "File \u001b[0;32m/opt/miniconda3/envs/ironhack/lib/python3.9/site-packages/selenium/webdriver/remote/webdriver.py:440\u001b[0m, in \u001b[0;36mWebDriver.execute\u001b[0;34m(self, driver_command, params)\u001b[0m\n\u001b[1;32m    438\u001b[0m response \u001b[39m=\u001b[39m \u001b[39mself\u001b[39m\u001b[39m.\u001b[39mcommand_executor\u001b[39m.\u001b[39mexecute(driver_command, params)\n\u001b[1;32m    439\u001b[0m \u001b[39mif\u001b[39;00m response:\n\u001b[0;32m--> 440\u001b[0m     \u001b[39mself\u001b[39;49m\u001b[39m.\u001b[39;49merror_handler\u001b[39m.\u001b[39;49mcheck_response(response)\n\u001b[1;32m    441\u001b[0m     response[\u001b[39m\"\u001b[39m\u001b[39mvalue\u001b[39m\u001b[39m\"\u001b[39m] \u001b[39m=\u001b[39m \u001b[39mself\u001b[39m\u001b[39m.\u001b[39m_unwrap_value(response\u001b[39m.\u001b[39mget(\u001b[39m\"\u001b[39m\u001b[39mvalue\u001b[39m\u001b[39m\"\u001b[39m, \u001b[39mNone\u001b[39;00m))\n\u001b[1;32m    442\u001b[0m     \u001b[39mreturn\u001b[39;00m response\n",
      "File \u001b[0;32m/opt/miniconda3/envs/ironhack/lib/python3.9/site-packages/selenium/webdriver/remote/errorhandler.py:245\u001b[0m, in \u001b[0;36mErrorHandler.check_response\u001b[0;34m(self, response)\u001b[0m\n\u001b[1;32m    243\u001b[0m         alert_text \u001b[39m=\u001b[39m value[\u001b[39m\"\u001b[39m\u001b[39malert\u001b[39m\u001b[39m\"\u001b[39m]\u001b[39m.\u001b[39mget(\u001b[39m\"\u001b[39m\u001b[39mtext\u001b[39m\u001b[39m\"\u001b[39m)\n\u001b[1;32m    244\u001b[0m     \u001b[39mraise\u001b[39;00m exception_class(message, screen, stacktrace, alert_text)  \u001b[39m# type: ignore[call-arg]  # mypy is not smart enough here\u001b[39;00m\n\u001b[0;32m--> 245\u001b[0m \u001b[39mraise\u001b[39;00m exception_class(message, screen, stacktrace)\n",
      "\u001b[0;31mNoSuchElementException\u001b[0m: Message: no such element: Unable to locate element: {\"method\":\"xpath\",\"selector\":\"//div[@class=\"order-list\"]/div[2]//button[@class=\"ui-button ui-button--small ui-button--tertiary ui-button--positive ui-button--with-icon\"]\"}\n  (Session info: chrome=110.0.5481.177)\nStacktrace:\n0   chromedriver                        0x000000010aa922c8 chromedriver + 4928200\n1   chromedriver                        0x000000010aa0a273 chromedriver + 4371059\n2   chromedriver                        0x000000010a652777 chromedriver + 472951\n3   chromedriver                        0x000000010a696b2c chromedriver + 752428\n4   chromedriver                        0x000000010a696d81 chromedriver + 753025\n5   chromedriver                        0x000000010a6dd6c4 chromedriver + 1042116\n6   chromedriver                        0x000000010a6bff6d chromedriver + 921453\n7   chromedriver                        0x000000010a6dabbb chromedriver + 1031099\n8   chromedriver                        0x000000010a6bfcb3 chromedriver + 920755\n9   chromedriver                        0x000000010a6869eb chromedriver + 686571\n10  chromedriver                        0x000000010a687fe4 chromedriver + 692196\n11  chromedriver                        0x000000010aa5d90e chromedriver + 4712718\n12  chromedriver                        0x000000010aa62e42 chromedriver + 4734530\n13  chromedriver                        0x000000010aa6b68f chromedriver + 4769423\n14  chromedriver                        0x000000010aa63e90 chromedriver + 4738704\n15  chromedriver                        0x000000010aa34815 chromedriver + 4544533\n16  chromedriver                        0x000000010aa85f58 chromedriver + 4878168\n17  chromedriver                        0x000000010aa860d5 chromedriver + 4878549\n18  chromedriver                        0x000000010aa9a84e chromedriver + 4962382\n19  libsystem_pthread.dylib             0x00007ff81d4a24e1 _pthread_start + 125\n20  libsystem_pthread.dylib             0x00007ff81d49df6b thread_start + 15\n"
     ]
    }
   ],
   "source": [
    "# Code from ChatGPT (Modified)\n",
    "#from selenium import webdriver\n",
    "\n",
    "# specify the path to your web driver\n",
    "driver = webdriver.Chrome()\n",
    "\n",
    "# navigate to the login page\n",
    "driver.get('https://www.mercadona.es/')\n",
    "\n",
    "# enter the postal code\n",
    "postal_code = driver.find_element(By.CSS_SELECTOR, 'input[aria-label=\"Código postal\"]')\n",
    "postal_code.send_keys('08012')\n",
    "\n",
    "# click the submit button\n",
    "submit_button = driver.find_element(By.CSS_SELECTOR, 'input.postal-code-form__button')\n",
    "submit_button.click()\n",
    "\n",
    "# wait for the page to load\n",
    "driver.implicitly_wait(10)\n",
    "\n",
    "# click the \"Identifícate\" link\n",
    "identificate_link = driver.find_element(By.CSS_SELECTOR, 'div.account__title')\n",
    "identificate_link.click()\n",
    "\n",
    "# wait random time\n",
    "#sleep(random.uniform(1.5, 1.9))\n",
    "\n",
    "# click the \"Identifícate\" button\n",
    "identificate_button = driver.find_element(By.CSS_SELECTOR, 'a[href*=\"authenticate-user\"]')\n",
    "identificate_button.click()\n",
    "\n",
    "# wait random time\n",
    "#sleep(random.uniform(1.5, 1.9))\n",
    "\n",
    "# enter the email address\n",
    "email = driver.find_element(By.CSS_SELECTOR, 'input[name=\"email\"]')\n",
    "email.send_keys(mercadona_user)\n",
    "\n",
    "# wait random time\n",
    "#sleep(random.uniform(1.5, 1.9))\n",
    "\n",
    "# click the \"Siguiente\" button\n",
    "next_button = driver.find_element(By.CSS_SELECTOR, 'button[type=\"submit\"]')\n",
    "next_button.click()\n",
    "\n",
    "# wait random time\n",
    "#sleep(random.uniform(1.5, 1.9))\n",
    "\n",
    "# enter the password\n",
    "password = driver.find_element(By.CSS_SELECTOR, 'input[name=\"password\"]')\n",
    "password.send_keys(mercadona_password)\n",
    "\n",
    "# click the \"Entrar\" button\n",
    "entrar_button = driver.find_element(By.CSS_SELECTOR, 'button[data-test=\"do-login\"]')\n",
    "entrar_button.click()\n",
    "\n",
    "# drop down de \"Hola Andrés\"\n",
    "personal_section = driver.find_element(By.CLASS_NAME, \"drop-down__trigger\")\n",
    "personal_section.click()\n",
    "\n",
    "# abrir \"Mis pedidos\"\n",
    "pedidos = driver.find_element(By.CLASS_NAME, \"subhead1-r.account-menu__item\")\n",
    "pedidos.click()\n",
    "\n",
    "# find the first order cell and click it\n",
    "first_order = driver.find_element(By.XPATH, '//div[@class=\"order-list\"]/div[2]//button[@class=\"ui-button ui-button--small ui-button--tertiary ui-button--positive ui-button--with-icon\"]')\n",
    "first_order.click()\n",
    "\n",
    "# wait for the order page to load\n",
    "driver.implicitly_wait(10)\n",
    "\n",
    "# get the HTML of the order page\n",
    "html = driver.page_source"
   ]
  },
  {
   "attachments": {},
   "cell_type": "markdown",
   "metadata": {},
   "source": [
    "## Trying downloading the full html manually to get history"
   ]
  },
  {
   "cell_type": "code",
   "execution_count": 70,
   "metadata": {},
   "outputs": [],
   "source": [
    "with open('pedidos.html', 'r') as f:\n",
    "    html = f.read()\n",
    "\n",
    "pedidos = BeautifulSoup(html, 'html.parser')"
   ]
  },
  {
   "cell_type": "code",
   "execution_count": 73,
   "metadata": {},
   "outputs": [
    {
     "data": {
      "text/plain": [
       "[<span class=\"order-cell__id footnote1-r\">Pedido 13945376 · </span>,\n",
       " <span class=\"order-cell__id footnote1-r\">Pedido 13879881 · </span>,\n",
       " <span class=\"order-cell__id footnote1-r\">Pedido 13821013 · </span>,\n",
       " <span class=\"order-cell__id footnote1-r\">Pedido 13759447 · </span>,\n",
       " <span class=\"order-cell__id footnote1-r\">Pedido 13703740 · </span>,\n",
       " <span class=\"order-cell__id footnote1-r\">Pedido 13640454 · </span>,\n",
       " <span class=\"order-cell__id footnote1-r\">Pedido 13580934 · </span>,\n",
       " <span class=\"order-cell__id footnote1-r\">Pedido 13546313 · </span>,\n",
       " <span class=\"order-cell__id footnote1-r\">Pedido 13507140 · </span>,\n",
       " <span class=\"order-cell__id footnote1-r\">Pedido 13449668 · </span>,\n",
       " <span class=\"order-cell__id footnote1-r\">Pedido 13397754 · </span>,\n",
       " <span class=\"order-cell__id footnote1-r\">Pedido 13374140 · </span>,\n",
       " <span class=\"order-cell__id footnote1-r\">Pedido 13315781 · </span>,\n",
       " <span class=\"order-cell__id footnote1-r\">Pedido 13253776 · </span>,\n",
       " <span class=\"order-cell__id footnote1-r\">Pedido 13220829 · </span>,\n",
       " <span class=\"order-cell__id footnote1-r\">Pedido 13151497 · </span>,\n",
       " <span class=\"order-cell__id footnote1-r\">Pedido 13117832 · </span>,\n",
       " <span class=\"order-cell__id footnote1-r\">Pedido 13069090 · </span>,\n",
       " <span class=\"order-cell__id footnote1-r\">Pedido 13029815 · </span>,\n",
       " <span class=\"order-cell__id footnote1-r\">Pedido 12950475 · </span>,\n",
       " <span class=\"order-cell__id footnote1-r\">Pedido 12878660 · </span>,\n",
       " <span class=\"order-cell__id footnote1-r\">Pedido 12838037 · </span>,\n",
       " <span class=\"order-cell__id footnote1-r\">Pedido 12793662 · </span>]"
      ]
     },
     "execution_count": 73,
     "metadata": {},
     "output_type": "execute_result"
    }
   ],
   "source": [
    "pedido_spans = pedidos.find_all('span', class_='order-cell__id footnote1-r')"
   ]
  },
  {
   "cell_type": "code",
   "execution_count": 78,
   "metadata": {},
   "outputs": [
    {
     "data": {
      "text/plain": [
       "'13945376'"
      ]
     },
     "execution_count": 78,
     "metadata": {},
     "output_type": "execute_result"
    }
   ],
   "source": [
    "pedido_spans[0].get_text().split(\" \",2)[1]"
   ]
  },
  {
   "cell_type": "code",
   "execution_count": 94,
   "metadata": {},
   "outputs": [
    {
     "data": {
      "text/plain": [
       "['13945376',\n",
       " '13879881',\n",
       " '13821013',\n",
       " '13759447',\n",
       " '13703740',\n",
       " '13640454',\n",
       " '13580934',\n",
       " '13546313',\n",
       " '13507140',\n",
       " '13449668',\n",
       " '13397754',\n",
       " '13374140',\n",
       " '13315781',\n",
       " '13253776',\n",
       " '13220829',\n",
       " '13151497',\n",
       " '13117832',\n",
       " '13069090',\n",
       " '13029815',\n",
       " '12950475',\n",
       " '12878660',\n",
       " '12838037',\n",
       " '12793662']"
      ]
     },
     "execution_count": 94,
     "metadata": {},
     "output_type": "execute_result"
    }
   ],
   "source": [
    "numeros_de_pedido=[]\n",
    "for i in range(len(pedido_spans)):\n",
    "    pedido = pedido_spans[i].get_text().split(\" \",2)[1]\n",
    "    numeros_de_pedido.append(pedido)\n",
    "numeros_de_pedido"
   ]
  },
  {
   "cell_type": "code",
   "execution_count": 79,
   "metadata": {},
   "outputs": [
    {
     "data": {
      "text/plain": [
       "[<span class=\"order-cell__price footnote1-r\">Total aproximado 71,50 €</span>,\n",
       " <span class=\"order-cell__price footnote1-r\">Total 94,21 €</span>,\n",
       " <span class=\"order-cell__price footnote1-r\">Total 73,16 €</span>,\n",
       " <span class=\"order-cell__price footnote1-r\">Total 61,08 €</span>,\n",
       " <span class=\"order-cell__price footnote1-r\">Total 71,74 €</span>,\n",
       " <span class=\"order-cell__price footnote1-r\">Total 97,96 €</span>,\n",
       " <span class=\"order-cell__price footnote1-r\">Total 68,98 €</span>,\n",
       " <span class=\"order-cell__price footnote1-r\">Total 85,47 €</span>,\n",
       " <span class=\"order-cell__price footnote1-r\">Total 65,22 €</span>,\n",
       " <span class=\"order-cell__price footnote1-r\">Total 85,19 €</span>,\n",
       " <span class=\"order-cell__price footnote1-r\">Total 94,56 €</span>,\n",
       " <span class=\"order-cell__price footnote1-r\">Total 77,98 €</span>,\n",
       " <span class=\"order-cell__price footnote1-r\">Total 96,99 €</span>,\n",
       " <span class=\"order-cell__price footnote1-r\">Total 87,28 €</span>,\n",
       " <span class=\"order-cell__price footnote1-r\">Total 81,56 €</span>,\n",
       " <span class=\"order-cell__price footnote1-r\">Total 101,95 €</span>,\n",
       " <span class=\"order-cell__price footnote1-r\">Total 61,81 €</span>,\n",
       " <span class=\"order-cell__price footnote1-r\">Total 128,82 €</span>,\n",
       " <span class=\"order-cell__price footnote1-r\">Total 90,50 €</span>,\n",
       " <span class=\"order-cell__price footnote1-r\">Total 102,83 €</span>,\n",
       " <span class=\"order-cell__price footnote1-r\">Total 156,79 €</span>,\n",
       " <span class=\"order-cell__price footnote1-r\">Total 101,20 €</span>,\n",
       " <span class=\"order-cell__price footnote1-r\">Total 107,02 €</span>]"
      ]
     },
     "execution_count": 79,
     "metadata": {},
     "output_type": "execute_result"
    }
   ],
   "source": [
    "totales = pedidos.find_all('span', class_='order-cell__price footnote1-r')\n",
    "totales"
   ]
  },
  {
   "cell_type": "code",
   "execution_count": 92,
   "metadata": {},
   "outputs": [
    {
     "data": {
      "text/plain": [
       "71.5"
      ]
     },
     "execution_count": 92,
     "metadata": {},
     "output_type": "execute_result"
    }
   ],
   "source": [
    "float(totales[0].get_text().split(' ',2)[2].replace(' €','').replace(',','.'))"
   ]
  },
  {
   "cell_type": "code",
   "execution_count": 102,
   "metadata": {},
   "outputs": [
    {
     "data": {
      "text/plain": [
       "['aproximado',\n",
       " 94.21,\n",
       " 73.16,\n",
       " 61.08,\n",
       " 71.74,\n",
       " 97.96,\n",
       " 68.98,\n",
       " 85.47,\n",
       " 65.22,\n",
       " 85.19,\n",
       " 94.56,\n",
       " 77.98,\n",
       " 96.99,\n",
       " 87.28,\n",
       " 81.56,\n",
       " 101.95,\n",
       " 61.81,\n",
       " 128.82,\n",
       " 90.5,\n",
       " 102.83,\n",
       " 156.79,\n",
       " 101.2,\n",
       " 107.02]"
      ]
     },
     "execution_count": 102,
     "metadata": {},
     "output_type": "execute_result"
    }
   ],
   "source": [
    "totales_numero=[]\n",
    "for i in range(len(totales)):\n",
    "    total = totales[i].get_text().split(' ',2)[1].replace(',','.')\n",
    "    if i>0:\n",
    "        total=float(total)\n",
    "    totales_numero.append(total)\n",
    "totales_numero"
   ]
  },
  {
   "cell_type": "code",
   "execution_count": 104,
   "metadata": {},
   "outputs": [
    {
     "data": {
      "text/plain": [
       "'Entregado el 4 de marzo'"
      ]
     },
     "execution_count": 104,
     "metadata": {},
     "output_type": "execute_result"
    }
   ],
   "source": [
    "#<h1 class=\"order-cell__title body1-sb\">Entregado el 18 de febrero</h1>\n",
    "fechas_html = pedidos.find_all('h1', class_='order-cell__title body1-sb')\n"
   ]
  },
  {
   "cell_type": "code",
   "execution_count": 108,
   "metadata": {},
   "outputs": [
    {
     "data": {
      "text/plain": [
       "['Entrega el sábado, 11 de marzode 11:00 a 12:00',\n",
       " 'Entregado el 4 de marzo',\n",
       " 'Entregado el 25 de febrero',\n",
       " 'Entregado el 18 de febrero',\n",
       " 'Entregado el 11 de febrero',\n",
       " 'Entregado el 4 de febrero',\n",
       " 'Entregado el 28 de enero',\n",
       " 'Entregado el 21 de enero',\n",
       " 'Entregado el 14 de enero',\n",
       " 'Entregado el 11 de enero',\n",
       " 'Entregado el 4 de enero',\n",
       " 'Entregado el 28 de diciembre',\n",
       " 'Entregado el 21 de diciembre',\n",
       " 'Entregado el 14 de diciembre',\n",
       " 'Entregado el 7 de diciembre',\n",
       " 'Entregado el 30 de noviembre',\n",
       " 'Entregado el 23 de noviembre',\n",
       " 'Entregado el 16 de noviembre',\n",
       " 'Entregado el 9 de noviembre',\n",
       " 'Entregado el 31 de octubre',\n",
       " 'Entregado el 20 de octubre',\n",
       " 'Entregado el 13 de octubre',\n",
       " 'Entregado el 6 de octubre']"
      ]
     },
     "execution_count": 108,
     "metadata": {},
     "output_type": "execute_result"
    }
   ],
   "source": [
    "fechas = [fechas_html[i].get_text() for i in range(len(fechas_html))]\n",
    "fechas"
   ]
  },
  {
   "cell_type": "code",
   "execution_count": 110,
   "metadata": {},
   "outputs": [
    {
     "ename": "AttributeError",
     "evalue": "ResultSet object has no attribute 'link'. You're probably treating a list of elements like a single element. Did you call find_all() when you meant to call find()?",
     "output_type": "error",
     "traceback": [
      "\u001b[0;31m---------------------------------------------------------------------------\u001b[0m",
      "\u001b[0;31mAttributeError\u001b[0m                            Traceback (most recent call last)",
      "\u001b[1;32m/Users/kike/Documents/Personal/Educación/IronHack/Final Project/draft.ipynb Cell 26\u001b[0m in \u001b[0;36m<cell line: 3>\u001b[0;34m()\u001b[0m\n\u001b[1;32m      <a href='vscode-notebook-cell:/Users/kike/Documents/Personal/Educaci%C3%B3n/IronHack/Final%20Project/draft.ipynb#X41sZmlsZQ%3D%3D?line=0'>1</a>\u001b[0m \u001b[39m#<a class=\"order-cell__link\" href=\"/user-area/orders/13759447\">\u001b[39;00m\n\u001b[1;32m      <a href='vscode-notebook-cell:/Users/kike/Documents/Personal/Educaci%C3%B3n/IronHack/Final%20Project/draft.ipynb#X41sZmlsZQ%3D%3D?line=1'>2</a>\u001b[0m link_html \u001b[39m=\u001b[39m pedidos\u001b[39m.\u001b[39mfind_all(\u001b[39m'\u001b[39m\u001b[39ma\u001b[39m\u001b[39m'\u001b[39m, class_\u001b[39m=\u001b[39m\u001b[39m'\u001b[39m\u001b[39morder-cell__link\u001b[39m\u001b[39m'\u001b[39m)\n\u001b[0;32m----> <a href='vscode-notebook-cell:/Users/kike/Documents/Personal/Educaci%C3%B3n/IronHack/Final%20Project/draft.ipynb#X41sZmlsZQ%3D%3D?line=2'>3</a>\u001b[0m link_html\u001b[39m.\u001b[39;49mlink()\n",
      "File \u001b[0;32m/opt/miniconda3/envs/ironhack/lib/python3.9/site-packages/bs4/element.py:2289\u001b[0m, in \u001b[0;36mResultSet.__getattr__\u001b[0;34m(self, key)\u001b[0m\n\u001b[1;32m   2287\u001b[0m \u001b[39mdef\u001b[39;00m \u001b[39m__getattr__\u001b[39m(\u001b[39mself\u001b[39m, key):\n\u001b[1;32m   2288\u001b[0m     \u001b[39m\"\"\"Raise a helpful exception to explain a common code fix.\"\"\"\u001b[39;00m\n\u001b[0;32m-> 2289\u001b[0m     \u001b[39mraise\u001b[39;00m \u001b[39mAttributeError\u001b[39;00m(\n\u001b[1;32m   2290\u001b[0m         \u001b[39m\"\u001b[39m\u001b[39mResultSet object has no attribute \u001b[39m\u001b[39m'\u001b[39m\u001b[39m%s\u001b[39;00m\u001b[39m'\u001b[39m\u001b[39m. You\u001b[39m\u001b[39m'\u001b[39m\u001b[39mre probably treating a list of elements like a single element. Did you call find_all() when you meant to call find()?\u001b[39m\u001b[39m\"\u001b[39m \u001b[39m%\u001b[39m key\n\u001b[1;32m   2291\u001b[0m     )\n",
      "\u001b[0;31mAttributeError\u001b[0m: ResultSet object has no attribute 'link'. You're probably treating a list of elements like a single element. Did you call find_all() when you meant to call find()?"
     ]
    }
   ],
   "source": [
    "#<a class=\"order-cell__link\" href=\"/user-area/orders/13759447\">\n",
    "link_html = pedidos.find_all('a', class_='order-cell__link')"
   ]
  },
  {
   "cell_type": "code",
   "execution_count": 120,
   "metadata": {},
   "outputs": [
    {
     "data": {
      "text/plain": [
       "'https://tienda.mercadona.es/user-area/orders/13945376'"
      ]
     },
     "execution_count": 120,
     "metadata": {},
     "output_type": "execute_result"
    }
   ],
   "source": [
    "link_html[0].get('href')\n"
   ]
  },
  {
   "cell_type": "code",
   "execution_count": 121,
   "metadata": {},
   "outputs": [
    {
     "data": {
      "text/plain": [
       "['https://tienda.mercadona.es/user-area/orders/13945376?products',\n",
       " 'https://tienda.mercadona.es/user-area/orders/13879881?products',\n",
       " 'https://tienda.mercadona.es/user-area/orders/13821013?products',\n",
       " 'https://tienda.mercadona.es/user-area/orders/13759447?products',\n",
       " 'https://tienda.mercadona.es/user-area/orders/13703740?products',\n",
       " 'https://tienda.mercadona.es/user-area/orders/13640454?products',\n",
       " 'https://tienda.mercadona.es/user-area/orders/13580934?products',\n",
       " 'https://tienda.mercadona.es/user-area/orders/13546313?products',\n",
       " 'https://tienda.mercadona.es/user-area/orders/13507140?products',\n",
       " 'https://tienda.mercadona.es/user-area/orders/13449668?products',\n",
       " 'https://tienda.mercadona.es/user-area/orders/13397754?products',\n",
       " 'https://tienda.mercadona.es/user-area/orders/13374140?products',\n",
       " 'https://tienda.mercadona.es/user-area/orders/13315781?products',\n",
       " 'https://tienda.mercadona.es/user-area/orders/13253776?products',\n",
       " 'https://tienda.mercadona.es/user-area/orders/13220829?products',\n",
       " 'https://tienda.mercadona.es/user-area/orders/13151497?products',\n",
       " 'https://tienda.mercadona.es/user-area/orders/13117832?products',\n",
       " 'https://tienda.mercadona.es/user-area/orders/13069090?products',\n",
       " 'https://tienda.mercadona.es/user-area/orders/13029815?products',\n",
       " 'https://tienda.mercadona.es/user-area/orders/12950475?products',\n",
       " 'https://tienda.mercadona.es/user-area/orders/12878660?products',\n",
       " 'https://tienda.mercadona.es/user-area/orders/12838037?products',\n",
       " 'https://tienda.mercadona.es/user-area/orders/12793662?products']"
      ]
     },
     "execution_count": 121,
     "metadata": {},
     "output_type": "execute_result"
    }
   ],
   "source": [
    "links = [link_html[i].get('href')+'?products' for i in range(len(link_html))]\n",
    "links"
   ]
  },
  {
   "cell_type": "code",
   "execution_count": 122,
   "metadata": {},
   "outputs": [
    {
     "data": {
      "text/html": [
       "<div>\n",
       "<style scoped>\n",
       "    .dataframe tbody tr th:only-of-type {\n",
       "        vertical-align: middle;\n",
       "    }\n",
       "\n",
       "    .dataframe tbody tr th {\n",
       "        vertical-align: top;\n",
       "    }\n",
       "\n",
       "    .dataframe thead th {\n",
       "        text-align: right;\n",
       "    }\n",
       "</style>\n",
       "<table border=\"1\" class=\"dataframe\">\n",
       "  <thead>\n",
       "    <tr style=\"text-align: right;\">\n",
       "      <th></th>\n",
       "      <th>id</th>\n",
       "      <th>total</th>\n",
       "      <th>fecha</th>\n",
       "      <th>link</th>\n",
       "    </tr>\n",
       "  </thead>\n",
       "  <tbody>\n",
       "    <tr>\n",
       "      <th>0</th>\n",
       "      <td>13945376</td>\n",
       "      <td>aproximado</td>\n",
       "      <td>Entrega el sábado, 11 de marzode 11:00 a 12:00</td>\n",
       "      <td>https://tienda.mercadona.es/user-area/orders/1...</td>\n",
       "    </tr>\n",
       "    <tr>\n",
       "      <th>1</th>\n",
       "      <td>13879881</td>\n",
       "      <td>94.21</td>\n",
       "      <td>Entregado el 4 de marzo</td>\n",
       "      <td>https://tienda.mercadona.es/user-area/orders/1...</td>\n",
       "    </tr>\n",
       "    <tr>\n",
       "      <th>2</th>\n",
       "      <td>13821013</td>\n",
       "      <td>73.16</td>\n",
       "      <td>Entregado el 25 de febrero</td>\n",
       "      <td>https://tienda.mercadona.es/user-area/orders/1...</td>\n",
       "    </tr>\n",
       "    <tr>\n",
       "      <th>3</th>\n",
       "      <td>13759447</td>\n",
       "      <td>61.08</td>\n",
       "      <td>Entregado el 18 de febrero</td>\n",
       "      <td>https://tienda.mercadona.es/user-area/orders/1...</td>\n",
       "    </tr>\n",
       "    <tr>\n",
       "      <th>4</th>\n",
       "      <td>13703740</td>\n",
       "      <td>71.74</td>\n",
       "      <td>Entregado el 11 de febrero</td>\n",
       "      <td>https://tienda.mercadona.es/user-area/orders/1...</td>\n",
       "    </tr>\n",
       "    <tr>\n",
       "      <th>5</th>\n",
       "      <td>13640454</td>\n",
       "      <td>97.96</td>\n",
       "      <td>Entregado el 4 de febrero</td>\n",
       "      <td>https://tienda.mercadona.es/user-area/orders/1...</td>\n",
       "    </tr>\n",
       "    <tr>\n",
       "      <th>6</th>\n",
       "      <td>13580934</td>\n",
       "      <td>68.98</td>\n",
       "      <td>Entregado el 28 de enero</td>\n",
       "      <td>https://tienda.mercadona.es/user-area/orders/1...</td>\n",
       "    </tr>\n",
       "    <tr>\n",
       "      <th>7</th>\n",
       "      <td>13546313</td>\n",
       "      <td>85.47</td>\n",
       "      <td>Entregado el 21 de enero</td>\n",
       "      <td>https://tienda.mercadona.es/user-area/orders/1...</td>\n",
       "    </tr>\n",
       "    <tr>\n",
       "      <th>8</th>\n",
       "      <td>13507140</td>\n",
       "      <td>65.22</td>\n",
       "      <td>Entregado el 14 de enero</td>\n",
       "      <td>https://tienda.mercadona.es/user-area/orders/1...</td>\n",
       "    </tr>\n",
       "    <tr>\n",
       "      <th>9</th>\n",
       "      <td>13449668</td>\n",
       "      <td>85.19</td>\n",
       "      <td>Entregado el 11 de enero</td>\n",
       "      <td>https://tienda.mercadona.es/user-area/orders/1...</td>\n",
       "    </tr>\n",
       "    <tr>\n",
       "      <th>10</th>\n",
       "      <td>13397754</td>\n",
       "      <td>94.56</td>\n",
       "      <td>Entregado el 4 de enero</td>\n",
       "      <td>https://tienda.mercadona.es/user-area/orders/1...</td>\n",
       "    </tr>\n",
       "    <tr>\n",
       "      <th>11</th>\n",
       "      <td>13374140</td>\n",
       "      <td>77.98</td>\n",
       "      <td>Entregado el 28 de diciembre</td>\n",
       "      <td>https://tienda.mercadona.es/user-area/orders/1...</td>\n",
       "    </tr>\n",
       "    <tr>\n",
       "      <th>12</th>\n",
       "      <td>13315781</td>\n",
       "      <td>96.99</td>\n",
       "      <td>Entregado el 21 de diciembre</td>\n",
       "      <td>https://tienda.mercadona.es/user-area/orders/1...</td>\n",
       "    </tr>\n",
       "    <tr>\n",
       "      <th>13</th>\n",
       "      <td>13253776</td>\n",
       "      <td>87.28</td>\n",
       "      <td>Entregado el 14 de diciembre</td>\n",
       "      <td>https://tienda.mercadona.es/user-area/orders/1...</td>\n",
       "    </tr>\n",
       "    <tr>\n",
       "      <th>14</th>\n",
       "      <td>13220829</td>\n",
       "      <td>81.56</td>\n",
       "      <td>Entregado el 7 de diciembre</td>\n",
       "      <td>https://tienda.mercadona.es/user-area/orders/1...</td>\n",
       "    </tr>\n",
       "    <tr>\n",
       "      <th>15</th>\n",
       "      <td>13151497</td>\n",
       "      <td>101.95</td>\n",
       "      <td>Entregado el 30 de noviembre</td>\n",
       "      <td>https://tienda.mercadona.es/user-area/orders/1...</td>\n",
       "    </tr>\n",
       "    <tr>\n",
       "      <th>16</th>\n",
       "      <td>13117832</td>\n",
       "      <td>61.81</td>\n",
       "      <td>Entregado el 23 de noviembre</td>\n",
       "      <td>https://tienda.mercadona.es/user-area/orders/1...</td>\n",
       "    </tr>\n",
       "    <tr>\n",
       "      <th>17</th>\n",
       "      <td>13069090</td>\n",
       "      <td>128.82</td>\n",
       "      <td>Entregado el 16 de noviembre</td>\n",
       "      <td>https://tienda.mercadona.es/user-area/orders/1...</td>\n",
       "    </tr>\n",
       "    <tr>\n",
       "      <th>18</th>\n",
       "      <td>13029815</td>\n",
       "      <td>90.5</td>\n",
       "      <td>Entregado el 9 de noviembre</td>\n",
       "      <td>https://tienda.mercadona.es/user-area/orders/1...</td>\n",
       "    </tr>\n",
       "    <tr>\n",
       "      <th>19</th>\n",
       "      <td>12950475</td>\n",
       "      <td>102.83</td>\n",
       "      <td>Entregado el 31 de octubre</td>\n",
       "      <td>https://tienda.mercadona.es/user-area/orders/1...</td>\n",
       "    </tr>\n",
       "    <tr>\n",
       "      <th>20</th>\n",
       "      <td>12878660</td>\n",
       "      <td>156.79</td>\n",
       "      <td>Entregado el 20 de octubre</td>\n",
       "      <td>https://tienda.mercadona.es/user-area/orders/1...</td>\n",
       "    </tr>\n",
       "    <tr>\n",
       "      <th>21</th>\n",
       "      <td>12838037</td>\n",
       "      <td>101.2</td>\n",
       "      <td>Entregado el 13 de octubre</td>\n",
       "      <td>https://tienda.mercadona.es/user-area/orders/1...</td>\n",
       "    </tr>\n",
       "    <tr>\n",
       "      <th>22</th>\n",
       "      <td>12793662</td>\n",
       "      <td>107.02</td>\n",
       "      <td>Entregado el 6 de octubre</td>\n",
       "      <td>https://tienda.mercadona.es/user-area/orders/1...</td>\n",
       "    </tr>\n",
       "  </tbody>\n",
       "</table>\n",
       "</div>"
      ],
      "text/plain": [
       "          id       total                                           fecha  \\\n",
       "0   13945376  aproximado  Entrega el sábado, 11 de marzode 11:00 a 12:00   \n",
       "1   13879881       94.21                         Entregado el 4 de marzo   \n",
       "2   13821013       73.16                      Entregado el 25 de febrero   \n",
       "3   13759447       61.08                      Entregado el 18 de febrero   \n",
       "4   13703740       71.74                      Entregado el 11 de febrero   \n",
       "5   13640454       97.96                       Entregado el 4 de febrero   \n",
       "6   13580934       68.98                        Entregado el 28 de enero   \n",
       "7   13546313       85.47                        Entregado el 21 de enero   \n",
       "8   13507140       65.22                        Entregado el 14 de enero   \n",
       "9   13449668       85.19                        Entregado el 11 de enero   \n",
       "10  13397754       94.56                         Entregado el 4 de enero   \n",
       "11  13374140       77.98                    Entregado el 28 de diciembre   \n",
       "12  13315781       96.99                    Entregado el 21 de diciembre   \n",
       "13  13253776       87.28                    Entregado el 14 de diciembre   \n",
       "14  13220829       81.56                     Entregado el 7 de diciembre   \n",
       "15  13151497      101.95                    Entregado el 30 de noviembre   \n",
       "16  13117832       61.81                    Entregado el 23 de noviembre   \n",
       "17  13069090      128.82                    Entregado el 16 de noviembre   \n",
       "18  13029815        90.5                     Entregado el 9 de noviembre   \n",
       "19  12950475      102.83                      Entregado el 31 de octubre   \n",
       "20  12878660      156.79                      Entregado el 20 de octubre   \n",
       "21  12838037       101.2                      Entregado el 13 de octubre   \n",
       "22  12793662      107.02                       Entregado el 6 de octubre   \n",
       "\n",
       "                                                 link  \n",
       "0   https://tienda.mercadona.es/user-area/orders/1...  \n",
       "1   https://tienda.mercadona.es/user-area/orders/1...  \n",
       "2   https://tienda.mercadona.es/user-area/orders/1...  \n",
       "3   https://tienda.mercadona.es/user-area/orders/1...  \n",
       "4   https://tienda.mercadona.es/user-area/orders/1...  \n",
       "5   https://tienda.mercadona.es/user-area/orders/1...  \n",
       "6   https://tienda.mercadona.es/user-area/orders/1...  \n",
       "7   https://tienda.mercadona.es/user-area/orders/1...  \n",
       "8   https://tienda.mercadona.es/user-area/orders/1...  \n",
       "9   https://tienda.mercadona.es/user-area/orders/1...  \n",
       "10  https://tienda.mercadona.es/user-area/orders/1...  \n",
       "11  https://tienda.mercadona.es/user-area/orders/1...  \n",
       "12  https://tienda.mercadona.es/user-area/orders/1...  \n",
       "13  https://tienda.mercadona.es/user-area/orders/1...  \n",
       "14  https://tienda.mercadona.es/user-area/orders/1...  \n",
       "15  https://tienda.mercadona.es/user-area/orders/1...  \n",
       "16  https://tienda.mercadona.es/user-area/orders/1...  \n",
       "17  https://tienda.mercadona.es/user-area/orders/1...  \n",
       "18  https://tienda.mercadona.es/user-area/orders/1...  \n",
       "19  https://tienda.mercadona.es/user-area/orders/1...  \n",
       "20  https://tienda.mercadona.es/user-area/orders/1...  \n",
       "21  https://tienda.mercadona.es/user-area/orders/1...  \n",
       "22  https://tienda.mercadona.es/user-area/orders/1...  "
      ]
     },
     "execution_count": 122,
     "metadata": {},
     "output_type": "execute_result"
    }
   ],
   "source": [
    "pedidos_df = {\n",
    "    \"id\":numeros_de_pedido,\n",
    "    \"total\" : totales_numero,\n",
    "    \"fecha\" : fechas,\n",
    "    \"link\" : links\n",
    "}\n",
    "\n",
    "historial_mercadona = pd.DataFrame(pedidos_df)\n",
    "historial_mercadona"
   ]
  },
  {
   "cell_type": "code",
   "execution_count": 123,
   "metadata": {},
   "outputs": [],
   "source": [
    "historial_mercadona.drop(0, inplace=True)"
   ]
  },
  {
   "cell_type": "code",
   "execution_count": 137,
   "metadata": {},
   "outputs": [
    {
     "data": {
      "text/plain": [
       "'https://tienda.mercadona.es/user-area/orders/13879881?products'"
      ]
     },
     "execution_count": 137,
     "metadata": {},
     "output_type": "execute_result"
    }
   ],
   "source": [
    "historial_mercadona[\"link\"][1]"
   ]
  },
  {
   "cell_type": "code",
   "execution_count": 125,
   "metadata": {},
   "outputs": [
    {
     "data": {
      "text/plain": [
       "90.5590909090909"
      ]
     },
     "execution_count": 125,
     "metadata": {},
     "output_type": "execute_result"
    }
   ],
   "source": [
    "historial_mercadona[\"total\"].mean()"
   ]
  },
  {
   "cell_type": "code",
   "execution_count": 126,
   "metadata": {},
   "outputs": [],
   "source": [
    "historial_mercadona.to_csv('historial')"
   ]
  },
  {
   "cell_type": "code",
   "execution_count": 132,
   "metadata": {},
   "outputs": [
    {
     "data": {
      "text/plain": [
       "<Response [200]>"
      ]
     },
     "execution_count": 132,
     "metadata": {},
     "output_type": "execute_result"
    }
   ],
   "source": [
    "pedido = requests.get(historial_mercadona[\"link\"][1])\n",
    "pedido"
   ]
  },
  {
   "cell_type": "code",
   "execution_count": 133,
   "metadata": {},
   "outputs": [
    {
     "data": {
      "text/plain": [
       "<!DOCTYPE html>\n",
       "<html lang=\"es\"><head><meta charset=\"utf-8\"/><meta content=\"IE=edge\" http-equiv=\"X-UA-Compatible\"><link href=\"/manifest.json\" rel=\"manifest\"/><link href=\"/favicon.ico\" rel=\"shortcut icon\"/><meta content=\"width=device-width,initial-scale=1,shrink-to-fit=no\" name=\"viewport\"/><meta content=\"#000000\" name=\"theme-color\"/><meta content=\"notranslate\" name=\"google\"/><meta content=\"summary_large_image\" name=\"twitter:card\"/><meta content=\"@Mercadona\" name=\"twitter:site\"/><meta content=\"@Mercadona\" name=\"twitter:creator\"/><meta content=\"AiAA_avfXacCRnY2G3ZE91SUVhDaT-QiraT_Y0y8Bv4\" name=\"google-site-verification\"><script async=\"\" src=\"https://www.googletagmanager.com/gtag/js?id=UA-119340431-4\"></script><script>function gtag(){dataLayer.push(arguments)}window.dataLayer=window.dataLayer||[],gtag(\"js\",new Date)</script><meta content=\"https://tienda.mercadona.es/web-display-img.png\" data-react-helmet=\"true\" property=\"og:image\"/><meta content=\"https://tienda.mercadona.es\" data-react-helmet=\"true\" property=\"og:url\"/><meta content=\"Mercadona compra online\" data-react-helmet=\"true\" property=\"og:title\"/><meta content=\"Empieza tu compra online en Mercadona. Tu compra en casa con la misma calidad y frescura que en tu tienda de siempre.\" data-react-helmet=\"true\" property=\"og:description\"/><title>Mercadona compra online</title><meta content=\"Empieza tu compra online en Mercadona. Tu compra en casa con la misma calidad y frescura que en tu tienda de siempre.\" data-react-helmet=\"true\" name=\"description\"/><link href=\"/v587/static/css/2.08d9cb77.chunk.css\" rel=\"stylesheet\"/><link href=\"/v587/static/css/main.b48a9677.chunk.css\" rel=\"stylesheet\"/></meta></meta></head><body><noscript>You need to enable JavaScript to run this app.</noscript><div id=\"root\"></div><div id=\"modal-info\"></div><script>!function(e){function r(r){for(var n,l,f=r[0],i=r[1],a=r[2],c=0,s=[];c<f.length;c++)l=f[c],Object.prototype.hasOwnProperty.call(o,l)&&o[l]&&s.push(o[l][0]),o[l]=0;for(n in i)Object.prototype.hasOwnProperty.call(i,n)&&(e[n]=i[n]);for(p&&p(r);s.length;)s.shift()();return u.push.apply(u,a||[]),t()}function t(){for(var e,r=0;r<u.length;r++){for(var t=u[r],n=!0,f=1;f<t.length;f++){var i=t[f];0!==o[i]&&(n=!1)}n&&(u.splice(r--,1),e=l(l.s=t[0]))}return e}var n={},o={1:0},u=[];function l(r){if(n[r])return n[r].exports;var t=n[r]={i:r,l:!1,exports:{}};return e[r].call(t.exports,t,t.exports,l),t.l=!0,t.exports}l.m=e,l.c=n,l.d=function(e,r,t){l.o(e,r)||Object.defineProperty(e,r,{enumerable:!0,get:t})},l.r=function(e){\"undefined\"!=typeof Symbol&&Symbol.toStringTag&&Object.defineProperty(e,Symbol.toStringTag,{value:\"Module\"}),Object.defineProperty(e,\"__esModule\",{value:!0})},l.t=function(e,r){if(1&r&&(e=l(e)),8&r)return e;if(4&r&&\"object\"==typeof e&&e&&e.__esModule)return e;var t=Object.create(null);if(l.r(t),Object.defineProperty(t,\"default\",{enumerable:!0,value:e}),2&r&&\"string\"!=typeof e)for(var n in e)l.d(t,n,function(r){return e[r]}.bind(null,n));return t},l.n=function(e){var r=e&&e.__esModule?function(){return e.default}:function(){return e};return l.d(r,\"a\",r),r},l.o=function(e,r){return Object.prototype.hasOwnProperty.call(e,r)},l.p=\"/\";var f=window.webpackJsonp=window.webpackJsonp||[],i=f.push.bind(f);f.push=r,f=f.slice();for(var a=0;a<f.length;a++)r(f[a]);var p=i;t()}([])</script><script src=\"/v587/static/js/2.39d6f8c4.chunk.js\"></script><script src=\"/v587/static/js/main.7cc01093.chunk.js\"></script></body></html>"
      ]
     },
     "execution_count": 133,
     "metadata": {},
     "output_type": "execute_result"
    }
   ],
   "source": [
    "soup = BeautifulSoup(pedido.content, \"html.parser\")\n",
    "soup"
   ]
  },
  {
   "cell_type": "code",
   "execution_count": null,
   "metadata": {},
   "outputs": [],
   "source": [
    "<div class=\"order-product-cell\" data-test=\"order-product-cell\"><img class=\"order-product-cell__image\" alt=\"\" src=\"https://prod-mercadona.imgix.net/images/2d60ea3b6e63b6102f4e8496a9250e74.jpg?fit=crop&amp;h=300&amp;w=300\"><div class=\"order-product-cell__detail\"><p class=\"order-product-cell__name subhead1-r\">Chili con carne Hacendado</p><div class=\"order-product-cell__total\"><div class=\"prepared-units-cell\" data-test=\"prepared-units-cell\"><span class=\"order-product-cell__prepared-units subhead1-r\">1 ud.</span><p class=\"order-product-cell__price subhead1-r\">2,60 €</p></div></div></div></div>"
   ]
  },
  {
   "cell_type": "code",
   "execution_count": 135,
   "metadata": {},
   "outputs": [
    {
     "data": {
      "text/plain": [
       "[]"
      ]
     },
     "execution_count": 135,
     "metadata": {},
     "output_type": "execute_result"
    }
   ],
   "source": [
    "producto_html = soup.find_all('div', class_='order-product-cell__name subhead1-r')\n",
    "producto_html\n",
    "#producto = [pedido[i].get_text() for i in range(len(fechas_html))]"
   ]
  },
  {
   "cell_type": "code",
   "execution_count": null,
   "metadata": {},
   "outputs": [],
   "source": []
  }
 ],
 "metadata": {
  "kernelspec": {
   "display_name": "ironhack",
   "language": "python",
   "name": "python3"
  },
  "language_info": {
   "codemirror_mode": {
    "name": "ipython",
    "version": 3
   },
   "file_extension": ".py",
   "mimetype": "text/x-python",
   "name": "python",
   "nbconvert_exporter": "python",
   "pygments_lexer": "ipython3",
   "version": "3.9.12"
  },
  "orig_nbformat": 4
 },
 "nbformat": 4,
 "nbformat_minor": 2
}
